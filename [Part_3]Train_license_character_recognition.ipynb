{
  "cells": [
    {
      "cell_type": "markdown",
      "metadata": {
        "id": "GxW3Qg-ScurV"
      },
      "source": [
        "#### This notebook is used to train a character recongition from input image using MobileNets"
      ]
    },
    {
      "cell_type": "code",
      "source": [
        "from google.colab import drive\n",
        "drive.mount('/content/drive')"
      ],
      "metadata": {
        "colab": {
          "base_uri": "https://localhost:8080/"
        },
        "id": "JThPCMBirFua",
        "outputId": "f1a27287-d848-4f3f-8f20-782221b532ef"
      },
      "execution_count": null,
      "outputs": [
        {
          "output_type": "stream",
          "name": "stdout",
          "text": [
            "Mounted at /content/drive\n"
          ]
        }
      ]
    },
    {
      "cell_type": "code",
      "source": [
        "!cp -r \"/content/drive/My Drive/dataset_characters\" \"/content/\"\n",
        "!cp -r \"/content/drive/My Drive/Plate_examples\" \"/content/\"\n",
        "!cp -r \"/content/drive/My Drive/Plate_examples_2\" \"/content/\"\n",
        "!cp -r \"/content/drive/My Drive/Files\" \"/content/\"\n",
        "!cp -r \"/content/drive/My Drive/Files/local_utils.py\" \"/content/\""
      ],
      "metadata": {
        "id": "Wo-NRJiurLoA"
      },
      "execution_count": null,
      "outputs": []
    },
    {
      "cell_type": "code",
      "execution_count": null,
      "metadata": {
        "id": "XJmrQrB_curX"
      },
      "outputs": [],
      "source": [
        "# ignore warning\n",
        "import os\n",
        "os.environ['TF_CPP_MIN_LOG_LEVEL'] = '3'\n",
        "\n",
        "from keras.preprocessing.image import ImageDataGenerator\n",
        "from keras.applications import MobileNetV2\n",
        "from keras.layers import AveragePooling2D\n",
        "from keras.layers import Dropout\n",
        "from keras.layers import Flatten\n",
        "from keras.layers import Dense\n",
        "from keras.layers import Input\n",
        "from keras.models import Model\n",
        "from keras.optimizers.legacy import Adam\n",
        "from keras.preprocessing.image import img_to_array\n",
        "from keras.preprocessing.image import load_img\n",
        "from keras.utils import to_categorical\n",
        "from keras.callbacks import ModelCheckpoint, EarlyStopping\n",
        "from keras.models import model_from_json\n",
        "from sklearn.preprocessing import LabelEncoder\n",
        "from sklearn.model_selection import train_test_split\n",
        "import matplotlib.pyplot as plt\n",
        "import matplotlib.gridspec as gridspec\n",
        "import glob\n",
        "import numpy as np"
      ]
    },
    {
      "cell_type": "markdown",
      "metadata": {
        "id": "z8ApWHt8curj"
      },
      "source": [
        "### Visualize dataset"
      ]
    },
    {
      "cell_type": "code",
      "execution_count": null,
      "metadata": {
        "colab": {
          "base_uri": "https://localhost:8080/",
          "height": 666
        },
        "id": "-y1mnjyPcurk",
        "outputId": "1af6b619-0f35-4da5-fe0b-a4e7431c1ccf",
        "scrolled": false
      },
      "outputs": [
        {
          "output_type": "display_data",
          "data": {
            "text/plain": [
              "<Figure size 1000x800 with 12 Axes>"
            ],
            "image/png": "[encoded data removed]"
          },
          "metadata": {}
        }
      ],
      "source": [
        "dataset_paths = glob.glob(\"dataset_characters/**/*.jpg\")\n",
        "\n",
        "cols=4\n",
        "rows=3\n",
        "fig = plt.figure(figsize=(10,8))\n",
        "plt.rcParams.update({\"font.size\":14})\n",
        "grid = gridspec.GridSpec(ncols=cols,nrows=rows,figure=fig)\n",
        "\n",
        "# create a random list of images will be displayed\n",
        "np.random.seed(45)\n",
        "rand = np.random.randint(0,len(dataset_paths),size=(cols*rows))\n",
        "\n",
        "# Plot image\n",
        "for i in range(cols*rows):\n",
        "    fig.add_subplot(grid[i])\n",
        "    image = load_img(dataset_paths[rand[i]])\n",
        "    label = dataset_paths[rand[i]].split(os.path.sep)[-2]\n",
        "    plt.title('\"{:s}\"'.format(label))\n",
        "    plt.axis(False)\n",
        "    plt.imshow(image)\n",
        "\n",
        "plt.savefig(\"Visualize_dataset.jpg\",dpi=300)\n"
      ]
    },
    {
      "cell_type": "markdown",
      "metadata": {
        "id": "LJzYBWt3bzAj"
      },
      "source": [
        "## Data pre-processing"
      ]
    },
    {
      "cell_type": "code",
      "execution_count": null,
      "metadata": {
        "colab": {
          "base_uri": "https://localhost:8080/"
        },
        "id": "Yh443FGFRgFP",
        "outputId": "4d14ce9e-6805-4acf-e5bd-63372446e5f4"
      },
      "outputs": [
        {
          "output_type": "stream",
          "name": "stdout",
          "text": [
            "[INFO] Find 689 images with 1 classes\n"
          ]
        }
      ],
      "source": [
        "# Arange input data and corresponding labels\n",
        "X=[]\n",
        "labels=[]\n",
        "\n",
        "for image_path in dataset_paths:\n",
        "  label = image_path.split(os.path.sep)[-2]\n",
        "  image=load_img(image_path,target_size=(80,80))\n",
        "  image=img_to_array(image)\n",
        "\n",
        "  X.append(image)\n",
        "  labels.append(label)\n",
        "\n",
        "X = np.array(X,dtype=\"float16\")\n",
        "labels = np.array(labels)\n",
        "\n",
        "print(\"[INFO] Find {:d} images with {:d} classes\".format(len(X),len(set(labels))))\n",
        "\n",
        "\n",
        "# perform one-hot encoding on the labels\n",
        "lb = LabelEncoder()\n",
        "lb.fit(labels)\n",
        "labels = lb.transform(labels)\n",
        "y = to_categorical(labels)\n",
        "\n",
        "# save label file so we can use in another script\n",
        "np.save('license_character_classes.npy', lb.classes_)"
      ]
    },
    {
      "cell_type": "code",
      "execution_count": null,
      "metadata": {
        "id": "AOHM-oeWSsPd"
      },
      "outputs": [],
      "source": [
        "# split 10% of data as validation set\n",
        "(trainX, testX, trainY, testY) = train_test_split(X, y, test_size=0.10, stratify=y, random_state=42)"
      ]
    },
    {
      "cell_type": "code",
      "execution_count": null,
      "metadata": {
        "id": "1DfUhlOTcurq"
      },
      "outputs": [],
      "source": [
        "# data augumentation\n",
        "image_gen = ImageDataGenerator(rotation_range=10,\n",
        "                              width_shift_range=0.1,\n",
        "                              height_shift_range=0.1,\n",
        "                              shear_range=0.1,\n",
        "                              zoom_range=0.1,\n",
        "                              fill_mode=\"nearest\"\n",
        "                              )"
      ]
    },
    {
      "cell_type": "markdown",
      "metadata": {
        "id": "vNMFc03Mb45i"
      },
      "source": [
        "## Initialize MobileNets architecture with pre-trained weight"
      ]
    },
    {
      "cell_type": "code",
      "execution_count": null,
      "metadata": {
        "id": "AaemgepFcur0"
      },
      "outputs": [],
      "source": [
        "# Create our model with pre-trained MobileNetV2 architecture from imagenet\n",
        "def create_model(lr,decay, training=False,output_shape=y.shape[1]):\n",
        "    baseModel = MobileNetV2(weights=\"imagenet\",\n",
        "                            include_top=False,\n",
        "                            input_tensor=Input(shape=(80, 80, 3)))\n",
        "\n",
        "    headModel = baseModel.output\n",
        "    headModel = AveragePooling2D(pool_size=(3, 3))(headModel)\n",
        "    headModel = Flatten(name=\"flatten\")(headModel)\n",
        "    headModel = Dense(128, activation=\"relu\")(headModel)\n",
        "    headModel = Dropout(0.5)(headModel)\n",
        "    headModel = Dense(output_shape, activation=\"softmax\")(headModel)\n",
        "\n",
        "    model = Model(inputs=baseModel.input, outputs=headModel)\n",
        "\n",
        "    if training:\n",
        "        # define trainable lalyer\n",
        "        for layer in baseModel.layers:\n",
        "            layer.trainable = True\n",
        "        # compile model\n",
        "        optimizer = Adam(learning_rate=lr, decay = decay)\n",
        "        model.compile(loss=\"binary_crossentropy\", optimizer=optimizer,metrics=[\"accuracy\"])\n",
        "\n",
        "    return model"
      ]
    },
    {
      "cell_type": "code",
      "execution_count": null,
      "metadata": {
        "colab": {
          "base_uri": "https://localhost:8080/"
        },
        "id": "-B5O6zG_cur5",
        "outputId": "31ff3543-0ce5-4a5d-ccfb-0331b820688b"
      },
      "outputs": [
        {
          "output_type": "stream",
          "name": "stderr",
          "text": [
            "WARNING:tensorflow:`input_shape` is undefined or non-square, or `rows` is not in [96, 128, 160, 192, 224]. Weights for input shape (224, 224) will be loaded as the default.\n"
          ]
        },
        {
          "output_type": "stream",
          "name": "stdout",
          "text": [
            "Downloading data from https://storage.googleapis.com/tensorflow/keras-applications/mobilenet_v2/mobilenet_v2_weights_tf_dim_ordering_tf_kernels_1.0_224_no_top.h5\n",
            "9406464/9406464 [==============================] - 1s 0us/step\n"
          ]
        }
      ],
      "source": [
        "# initilaize initial hyperparameter\n",
        "INIT_LR = 1e-4\n",
        "EPOCHS = 30\n",
        "\n",
        "model = create_model(lr=INIT_LR, decay=INIT_LR/EPOCHS,training=True)"
      ]
    },
    {
      "cell_type": "markdown",
      "metadata": {
        "id": "JR0L3nWgb-gK"
      },
      "source": [
        "## Train model"
      ]
    },
    {
      "cell_type": "code",
      "execution_count": null,
      "metadata": {
        "colab": {
          "base_uri": "https://localhost:8080/"
        },
        "id": "4d4NQLwDcusA",
        "outputId": "a0a5f13b-bed3-4282-cca7-454173c89612"
      },
      "outputs": [
        {
          "output_type": "stream",
          "name": "stdout",
          "text": [
            "Epoch 1/30\n",
            "9/9 [==============================] - ETA: 0s - loss: 0.2075 - accuracy: 1.0000\n",
            "Epoch 1: saving model to License_character_recognition.h5\n",
            "9/9 [==============================] - 18s 356ms/step - loss: 0.2075 - accuracy: 1.0000 - val_loss: 0.0026 - val_accuracy: 1.0000\n",
            "Epoch 2/30\n",
            "9/9 [==============================] - ETA: 0s - loss: 0.0357 - accuracy: 1.0000\n",
            "Epoch 2: saving model to License_character_recognition.h5\n",
            "9/9 [==============================] - 1s 160ms/step - loss: 0.0357 - accuracy: 1.0000 - val_loss: 2.6453e-04 - val_accuracy: 1.0000\n",
            "Epoch 3/30\n",
            "9/9 [==============================] - ETA: 0s - loss: 0.0143 - accuracy: 1.0000\n",
            "Epoch 3: saving model to License_character_recognition.h5\n",
            "9/9 [==============================] - 2s 256ms/step - loss: 0.0143 - accuracy: 1.0000 - val_loss: 9.2121e-05 - val_accuracy: 1.0000\n",
            "Epoch 4/30\n",
            "9/9 [==============================] - ETA: 0s - loss: 0.0062 - accuracy: 1.0000\n",
            "Epoch 4: saving model to License_character_recognition.h5\n",
            "9/9 [==============================] - 2s 254ms/step - loss: 0.0062 - accuracy: 1.0000 - val_loss: 5.3437e-05 - val_accuracy: 1.0000\n",
            "Epoch 5/30\n",
            "9/9 [==============================] - ETA: 0s - loss: 0.0031 - accuracy: 1.0000\n",
            "Epoch 5: saving model to License_character_recognition.h5\n",
            "9/9 [==============================] - 1s 157ms/step - loss: 0.0031 - accuracy: 1.0000 - val_loss: 4.0300e-05 - val_accuracy: 1.0000\n",
            "Epoch 6/30\n",
            "9/9 [==============================] - ETA: 0s - loss: 0.0027 - accuracy: 1.0000\n",
            "Epoch 6: saving model to License_character_recognition.h5\n",
            "9/9 [==============================] - 1s 159ms/step - loss: 0.0027 - accuracy: 1.0000 - val_loss: 3.3356e-05 - val_accuracy: 1.0000\n",
            "Epoch 7/30\n",
            "9/9 [==============================] - ETA: 0s - loss: 0.0029 - accuracy: 1.0000\n",
            "Epoch 7: saving model to License_character_recognition.h5\n",
            "9/9 [==============================] - 1s 155ms/step - loss: 0.0029 - accuracy: 1.0000 - val_loss: 2.9676e-05 - val_accuracy: 1.0000\n",
            "Epoch 8/30\n",
            "9/9 [==============================] - ETA: 0s - loss: 0.0024 - accuracy: 1.0000\n",
            "Epoch 8: saving model to License_character_recognition.h5\n",
            "9/9 [==============================] - 1s 157ms/step - loss: 0.0024 - accuracy: 1.0000 - val_loss: 2.7907e-05 - val_accuracy: 1.0000\n",
            "Epoch 9/30\n",
            "9/9 [==============================] - ETA: 0s - loss: 0.0016 - accuracy: 1.0000\n",
            "Epoch 9: saving model to License_character_recognition.h5\n",
            "9/9 [==============================] - 1s 151ms/step - loss: 0.0016 - accuracy: 1.0000 - val_loss: 2.7267e-05 - val_accuracy: 1.0000\n",
            "Epoch 10/30\n",
            "9/9 [==============================] - ETA: 0s - loss: 0.0015 - accuracy: 1.0000\n",
            "Epoch 10: saving model to License_character_recognition.h5\n",
            "9/9 [==============================] - 2s 274ms/step - loss: 0.0015 - accuracy: 1.0000 - val_loss: 2.6407e-05 - val_accuracy: 1.0000\n",
            "Epoch 11/30\n",
            "9/9 [==============================] - ETA: 0s - loss: 0.0012 - accuracy: 1.0000\n",
            "Epoch 11: saving model to License_character_recognition.h5\n",
            "9/9 [==============================] - 2s 261ms/step - loss: 0.0012 - accuracy: 1.0000 - val_loss: 2.7017e-05 - val_accuracy: 1.0000\n",
            "Epoch 12/30\n",
            "9/9 [==============================] - ETA: 0s - loss: 0.0015 - accuracy: 1.0000\n",
            "Epoch 12: saving model to License_character_recognition.h5\n",
            "9/9 [==============================] - 2s 171ms/step - loss: 0.0015 - accuracy: 1.0000 - val_loss: 2.8804e-05 - val_accuracy: 1.0000\n",
            "Epoch 13/30\n",
            "9/9 [==============================] - ETA: 0s - loss: 0.0012 - accuracy: 1.0000\n",
            "Epoch 13: saving model to License_character_recognition.h5\n",
            "9/9 [==============================] - 1s 156ms/step - loss: 0.0012 - accuracy: 1.0000 - val_loss: 3.0984e-05 - val_accuracy: 1.0000\n",
            "Epoch 14/30\n",
            "9/9 [==============================] - ETA: 0s - loss: 0.0011 - accuracy: 1.0000\n",
            "Epoch 14: saving model to License_character_recognition.h5\n",
            "9/9 [==============================] - 1s 162ms/step - loss: 0.0011 - accuracy: 1.0000 - val_loss: 3.1231e-05 - val_accuracy: 1.0000\n",
            "Epoch 15/30\n",
            "9/9 [==============================] - ETA: 0s - loss: 7.5262e-04 - accuracy: 1.0000\n",
            "Epoch 15: saving model to License_character_recognition.h5\n",
            "9/9 [==============================] - 1s 164ms/step - loss: 7.5262e-04 - accuracy: 1.0000 - val_loss: 3.2826e-05 - val_accuracy: 1.0000\n"
          ]
        }
      ],
      "source": [
        "BATCH_SIZE = 64\n",
        "\n",
        "my_checkpointer = [\n",
        "                EarlyStopping(monitor='val_loss', patience=5, verbose=0),\n",
        "                ModelCheckpoint(filepath=\"License_character_recognition.h5\", verbose=1, save_weights_only=True)\n",
        "                ]\n",
        "\n",
        "result = model.fit(image_gen.flow(trainX, trainY, batch_size=BATCH_SIZE),\n",
        "                   steps_per_epoch=len(trainX) // BATCH_SIZE,\n",
        "                   validation_data=(testX, testY),\n",
        "                   validation_steps=len(testX) // BATCH_SIZE,\n",
        "                   epochs=EPOCHS, callbacks=my_checkpointer)"
      ]
    },
    {
      "cell_type": "markdown",
      "metadata": {
        "id": "va-WvqTpcCJw"
      },
      "source": [
        "## Visualize training result"
      ]
    },
    {
      "cell_type": "code",
      "execution_count": null,
      "metadata": {
        "colab": {
          "base_uri": "https://localhost:8080/",
          "height": 518
        },
        "id": "qUYOQrVzcusF",
        "outputId": "bd2d6cbc-2335-43cf-bc57-c133db56a41a"
      },
      "outputs": [
        {
          "output_type": "execute_result",
          "data": {
            "text/plain": [
              "<matplotlib.legend.Legend at 0x79744293b550>"
            ]
          },
          "metadata": {},
          "execution_count": 11
        },
        {
          "output_type": "display_data",
          "data": {
            "text/plain": [
              "<Figure size 1400x500 with 2 Axes>"
            ],
            "image/png": "[encoded data removed]"
          },
          "metadata": {}
        }
      ],
      "source": [
        "\n",
        "fig = plt.figure(figsize=(14,5))\n",
        "grid=gridspec.GridSpec(ncols=2,nrows=1,figure=fig)\n",
        "fig.add_subplot(grid[0])\n",
        "plt.plot(result.history['accuracy'], label='training accuracy')\n",
        "plt.plot(result.history['val_accuracy'], label='val accuracy')\n",
        "plt.title('Accuracy')\n",
        "plt.xlabel('epochs')\n",
        "plt.ylabel('accuracy')\n",
        "plt.legend()\n",
        "\n",
        "fig.add_subplot(grid[1])\n",
        "plt.plot(result.history['loss'], label='training loss')\n",
        "plt.plot(result.history['val_loss'], label='val loss')\n",
        "plt.title('Loss')\n",
        "plt.xlabel('epochs')\n",
        "plt.ylabel('loss')\n",
        "plt.legend()\n",
        "\n",
        "#plt.savefig(\"Training_result.jpg\",dpi=300)"
      ]
    },
    {
      "cell_type": "code",
      "execution_count": null,
      "metadata": {
        "id": "w8JOq60Xw1UY"
      },
      "outputs": [],
      "source": [
        "# save model architectur as json file\n",
        "model_json = model.to_json()\n",
        "with open(\"MobileNets_character_recognition.json\", \"w\") as json_file:\n",
        "  json_file.write(model_json)"
      ]
    },
    {
      "cell_type": "markdown",
      "metadata": {
        "id": "t92Je4kBbs0g"
      },
      "source": [
        "## The End!"
      ]
    }
  ],
  "metadata": {
    "accelerator": "GPU",
    "colab": {
      "provenance": []
    },
    "kernelspec": {
      "display_name": "Python 3",
      "language": "python",
      "name": "python3"
    },
    "language_info": {
      "codemirror_mode": {
        "name": "ipython",
        "version": 3
      },
      "file_extension": ".py",
      "mimetype": "text/x-python",
      "name": "python",
      "nbconvert_exporter": "python",
      "pygments_lexer": "ipython3",
      "version": "3.11.4"
    }
  },
  "nbformat": 4,
  "nbformat_minor": 0
}